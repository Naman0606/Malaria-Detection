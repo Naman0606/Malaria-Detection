{
 "cells": [
  {
   "cell_type": "markdown",
   "metadata": {
    "id": "KwmnV-TQ8MfJ"
   },
   "source": [
    "DATA SET DRIVE LINK- https://drive.google.com/drive/folders/1hOXaHIDlUmT6-0Hm8MFCZ9vFNHQFCpWQ?usp=sharing"
   ]
  },
  {
   "cell_type": "markdown",
   "metadata": {
    "id": "ssHMqLjLj-DB"
   },
   "source": [
    "* IMPORT ALL MODULES REQUIRED FOR PROJECT.\n",
    "\n",
    "\n",
    "\n"
   ]
  },
  {
   "cell_type": "code",
   "execution_count": 26,
   "metadata": {
    "colab": {
     "base_uri": "https://localhost:8080/"
    },
    "executionInfo": {
     "elapsed": 5851,
     "status": "ok",
     "timestamp": 1663397892651,
     "user": {
      "displayName": "Rishabh Shah",
      "userId": "09622490148607930169"
     },
     "user_tz": -330
    },
    "id": "ajcoq6yYPWzz",
    "outputId": "841fe719-e393-4690-fb9d-f77190d95af8"
   },
   "outputs": [
    {
     "name": "stdout",
     "output_type": "stream",
     "text": [
      "Looking in indexes: https://pypi.org/simple, https://us-python.pkg.dev/colab-wheels/public/simple/\n",
      "Collecting alive-progress\n",
      "  Downloading alive_progress-2.4.1-py3-none-any.whl (80 kB)\n",
      "\u001b[K     |████████████████████████████████| 80 kB 8.6 MB/s \n",
      "\u001b[?25hCollecting grapheme==0.6.0\n",
      "  Downloading grapheme-0.6.0.tar.gz (207 kB)\n",
      "\u001b[K     |████████████████████████████████| 207 kB 68.7 MB/s \n",
      "\u001b[?25hCollecting about-time==3.1.1\n",
      "  Downloading about_time-3.1.1-py3-none-any.whl (9.1 kB)\n",
      "Building wheels for collected packages: grapheme\n",
      "  Building wheel for grapheme (setup.py) ... \u001b[?25l\u001b[?25hdone\n",
      "  Created wheel for grapheme: filename=grapheme-0.6.0-py3-none-any.whl size=210096 sha256=afd295a3b4b539c9de4d16ab354910463d5378d0ec64916e0d95d155f2abd910\n",
      "  Stored in directory: /root/.cache/pip/wheels/71/fc/c8/142ef03b79c02b618fe80b9f2d01c25bd55f60b0c58eab3f0e\n",
      "Successfully built grapheme\n",
      "Installing collected packages: grapheme, about-time, alive-progress\n",
      "Successfully installed about-time-3.1.1 alive-progress-2.4.1 grapheme-0.6.0\n"
     ]
    }
   ],
   "source": [
    "!pip install alive-progress"
   ]
  },
  {
   "cell_type": "code",
   "execution_count": 27,
   "metadata": {
    "executionInfo": {
     "elapsed": 403,
     "status": "ok",
     "timestamp": 1663397907691,
     "user": {
      "displayName": "Rishabh Shah",
      "userId": "09622490148607930169"
     },
     "user_tz": -330
    },
    "id": "dU9r08Vtwap5"
   },
   "outputs": [],
   "source": [
    "import glob\n",
    "import matplotlib.pyplot as plt\n",
    "from skimage import io\n",
    "from skimage import filters\n",
    "import csv\n",
    "from skimage.color import rgb2gray\n",
    "from skimage.util import img_as_ubyte\n",
    "import cv2\n",
    "from google.colab.patches import cv2_imshow\n",
    "from google.colab import files\n",
    "import os\n",
    "import pandas as pd\n",
    "from sklearn.neighbors import KNeighborsClassifier\n",
    "from sklearn.metrics import accuracy_score\n",
    "from sklearn.model_selection import train_test_split\n",
    "from sklearn.ensemble import RandomForestClassifier\n",
    "from sklearn.tree import DecisionTreeClassifier\n",
    "from sklearn.metrics import plot_confusion_matrix\n",
    "from alive_progress import alive_bar"
   ]
  },
  {
   "cell_type": "markdown",
   "metadata": {
    "id": "teJoQbM4kCp-"
   },
   "source": [
    "*   READ IMAGES FROM GOOGLE DRIVE STORAGE AND PROCESS USING SKIMAGE AND OPENCV\n",
    "\n",
    "\n",
    "\n",
    "\n"
   ]
  },
  {
   "cell_type": "code",
   "execution_count": 2,
   "metadata": {
    "colab": {
     "base_uri": "https://localhost:8080/"
    },
    "executionInfo": {
     "elapsed": 2873,
     "status": "ok",
     "timestamp": 1663396964340,
     "user": {
      "displayName": "Rishabh Shah",
      "userId": "09622490148607930169"
     },
     "user_tz": -330
    },
    "id": "E_Al0iHl-ymE",
    "outputId": "022576e8-f925-41ce-d891-5cb097200507"
   },
   "outputs": [
    {
     "name": "stdout",
     "output_type": "stream",
     "text": [
      "Drive already mounted at /content/drive; to attempt to forcibly remount, call drive.mount(\"/content/drive\", force_remount=True).\n"
     ]
    }
   ],
   "source": [
    "from google.colab import drive\n",
    "drive.mount('/content/drive')"
   ]
  },
  {
   "cell_type": "code",
   "execution_count": null,
   "metadata": {
    "id": "deHnHS5iOjZW"
   },
   "outputs": [],
   "source": [
    "lst = os.listdir(path_infected) # your directory path\n",
    "number_files = len(lst)\n",
    "number_files"
   ]
  },
  {
   "cell_type": "code",
   "execution_count": null,
   "metadata": {
    "id": "9zTxB8tdwVgI"
   },
   "outputs": [],
   "source": [
    "#Set google drive paths to read images in loop and create list of the paths to iterate in for loop.\n",
    "path_infected=r'/content/drive/MyDrive/Colab Notebooks/cell-images-for-detecting-malaria/cell_images/Parasitized'\n",
    "path_uninfected=r'/content/drive/MyDrive/Colab Notebooks/cell-images-for-detecting-malaria/cell_images/Uninfected'\n",
    "directory=[path_infected,path_uninfected] \n",
    "\n",
    "#creating .csv file based on results obtained by image processing.\n",
    "rows=[] \n",
    "for path in directory:\n",
    "  \n",
    "  len_images = len(os.listdir(path))\n",
    "  with alive_bar(len_images) as bar:\n",
    "    for image in os.scandir(path): \n",
    "      # if count>50: #stop iterating images at value when dataset size reaches size n\n",
    "      #   break\n",
    "      if (image.path.endswith(\".png\")): #perform image processing operations only if file is a .PNG image.\n",
    "        im = io.imread(image.path) \n",
    "        im = filters.gaussian(im,sigma=0.9) \n",
    "        im_gray = rgb2gray(im) \n",
    "        im_gray=img_as_ubyte(im_gray) #change image encoding to allow further processing using openCV\n",
    "\n",
    "        #process image using opencv to find contours.\n",
    "        ret,thresh = cv2.threshold(im_gray,127,255,0) \n",
    "        contours,_ = cv2.findContours(thresh,1,2) \n",
    "        cv2.drawContours(im,contours, -1, (0, 255, 0), 3) \n",
    "        # cv2_imshow(im)\n",
    "        data=[]\n",
    "        \n",
    "        for i in range (5): #run for loop to get area of contours and setting status.\n",
    "          if i<len(contours):\n",
    "            data.append(str(cv2.contourArea(contours[i])))\n",
    "          else:\n",
    "            data.append(\"0\")\n",
    "        if path==path_infected:\n",
    "          data.append(\"infected\")\n",
    "        else:\n",
    "          data.append(\"uninfected\")\n",
    "        rows.append(data)\n",
    "        bar()\n",
    "\n",
    "#write the csv file from processed data.\n",
    "fields = ['Area-1', 'Area-2', 'Area-3','Area-4','Area-5',\"Status\"] \n",
    "with open('dataset-single.csv', 'w') as csvfile: \n",
    "    csvwriter = csv.writer(csvfile) \n",
    "    csvwriter.writerow(fields) \n",
    "    csvwriter.writerows(rows) "
   ]
  },
  {
   "cell_type": "markdown",
   "metadata": {
    "id": "eb3JluRaoHj8"
   },
   "source": [
    "*  READ CSV,SAVE TO PANDAS DATA FRAME AND CREATE MULTIPLE ML MODELS\n",
    "\n",
    "\n"
   ]
  },
  {
   "cell_type": "code",
   "execution_count": 23,
   "metadata": {
    "colab": {
     "base_uri": "https://localhost:8080/",
     "height": 983
    },
    "executionInfo": {
     "elapsed": 1106,
     "status": "ok",
     "timestamp": 1663397207947,
     "user": {
      "displayName": "Rishabh Shah",
      "userId": "09622490148607930169"
     },
     "user_tz": -330
    },
    "id": "TISCuYQp2wPN",
    "outputId": "c2a4d06f-b0ac-4be9-8ac3-fbab20ee59e8"
   },
   "outputs": [
    {
     "name": "stderr",
     "output_type": "stream",
     "text": [
      "/usr/local/lib/python3.7/dist-packages/sklearn/utils/deprecation.py:87: FutureWarning: Function plot_confusion_matrix is deprecated; Function `plot_confusion_matrix` is deprecated in 1.0 and will be removed in 1.2. Use one of the class methods: ConfusionMatrixDisplay.from_predictions or ConfusionMatrixDisplay.from_estimator.\n",
      "  warnings.warn(msg, category=FutureWarning)\n"
     ]
    },
    {
     "data": {
      "image/png": "[encoded data removed]",
      "text/plain": [
       "<Figure size 432x288 with 2 Axes>"
      ]
     },
     "metadata": {
      "needs_background": "light"
     },
     "output_type": "display_data"
    },
    {
     "name": "stderr",
     "output_type": "stream",
     "text": [
      "/usr/local/lib/python3.7/dist-packages/sklearn/utils/deprecation.py:87: FutureWarning: Function plot_confusion_matrix is deprecated; Function `plot_confusion_matrix` is deprecated in 1.0 and will be removed in 1.2. Use one of the class methods: ConfusionMatrixDisplay.from_predictions or ConfusionMatrixDisplay.from_estimator.\n",
      "  warnings.warn(msg, category=FutureWarning)\n"
     ]
    },
    {
     "name": "stdout",
     "output_type": "stream",
     "text": [
      "Accuracy score on test dataset ( KNeighborsClassifier ):  0.9583333333333334\n"
     ]
    },
    {
     "data": {
      "image/png": "[encoded data removed]",
      "text/plain": [
       "<Figure size 432x288 with 2 Axes>"
      ]
     },
     "metadata": {
      "needs_background": "light"
     },
     "output_type": "display_data"
    },
    {
     "name": "stdout",
     "output_type": "stream",
     "text": [
      "Accuracy score on test dataset ( DecisionTreeClassifier ):  0.9583333333333334\n"
     ]
    },
    {
     "name": "stderr",
     "output_type": "stream",
     "text": [
      "/usr/local/lib/python3.7/dist-packages/sklearn/utils/deprecation.py:87: FutureWarning: Function plot_confusion_matrix is deprecated; Function `plot_confusion_matrix` is deprecated in 1.0 and will be removed in 1.2. Use one of the class methods: ConfusionMatrixDisplay.from_predictions or ConfusionMatrixDisplay.from_estimator.\n",
      "  warnings.warn(msg, category=FutureWarning)\n"
     ]
    },
    {
     "data": {
      "image/png": "[encoded data removed]",
      "text/plain": [
       "<Figure size 432x288 with 2 Axes>"
      ]
     },
     "metadata": {
      "needs_background": "light"
     },
     "output_type": "display_data"
    },
    {
     "name": "stdout",
     "output_type": "stream",
     "text": [
      "Accuracy score on test dataset ( RandomForestClassifier ):  0.9166666666666666\n"
     ]
    }
   ],
   "source": [
    "# read the train and test dataset\n",
    "data = pd.read_csv('dataset-single.csv')\n",
    "\n",
    "# Now, we need to predict the missing target variable in the test data\n",
    "# target variable - infected/uninfected\n",
    "X = data.iloc[:, :-1]\n",
    "y = data.iloc[:, -1]\n",
    "train_X, test_X, train_y, test_y = train_test_split(X, y, test_size = 0.24, random_state = 42)\n",
    "model = [KNeighborsClassifier(), DecisionTreeClassifier(max_depth=5), RandomForestClassifier(max_depth=5, n_estimators=5, max_features=1)]\n",
    "model_names= [\"KNeighborsClassifier\", \"DecisionTreeClassifier\", \"RandomForestClassifier\"]\n",
    "accuracy_test=[]\n",
    "for i in range(len(model)):  \n",
    "  # fit the model with the training data\n",
    "  model[i].fit(train_X,train_y)\n",
    "  \n",
    "  # predict the target on the test dataset\n",
    "  predict_test = model[i].predict(test_X)\n",
    "\n",
    "  # plot confusion matrix for each of the models\n",
    "  plot_confusion_matrix(model[i],test_X,test_y)  \n",
    "  plt.show()\n",
    "\n",
    "  # Accuracy Score on test dataset\n",
    "  accuracy_test.append(accuracy_score(test_y,predict_test))\n",
    "  print('Accuracy score on test dataset (',model_names[i],\"): \",accuracy_test[i])"
   ]
  },
  {
   "cell_type": "markdown",
   "metadata": {
    "id": "82bjBlTpicG4"
   },
   "source": [
    "*   UPLOAD IMAGE TO CLASSIFY WHETHER IMAGE IS INFECTED OR NOT\n"
   ]
  },
  {
   "cell_type": "code",
   "execution_count": null,
   "metadata": {
    "id": "Ty08Ay_eILNM"
   },
   "outputs": [],
   "source": [
    "\n",
    "uploaded = files.upload()\n",
    "filename=list(uploaded.keys())\n",
    "print(\"\\n\")\n",
    "if filename[0].endswith(\".png\"):\n",
    "  im = io.imread(filename[0])\n",
    "  im = filters.gaussian(im,sigma=0.8,multichannel=False)\n",
    "  im_gray = rgb2gray(im)\n",
    "  im_gray=img_as_ubyte(im_gray)\n",
    "\n",
    "  ret,thresh = cv2.threshold(im_gray,127,255,0)\n",
    "  contours,_ = cv2.findContours(thresh,1,2)\n",
    "  cv2.drawContours(im,contours, -1, (0, 255, 0), 3)\n",
    "  data=[]\n",
    "  for i in range (5):\n",
    "    if i<len(contours):\n",
    "      data.append(float(cv2.contourArea(contours[i])))\n",
    "    else:\n",
    "      data.append(0.0)\n",
    "  sample_test=[data]\n",
    "\n",
    "  for i in range(len(model)):\n",
    "    predict_sample = model[i].predict(sample_test)\n",
    "    print(\"Result: \",predict_sample[0],\"\\nAccuracy of Model: (\",model_names[i],\"): \",accuracy_test[i],\"\\n\")\n",
    "else:\n",
    "  print(\"Upload .PNG image file!\")"
   ]
  },
  {
   "cell_type": "code",
   "execution_count": null,
   "metadata": {
    "id": "zBSqBhuuK4AE"
   },
   "outputs": [],
   "source": [
    "plot_confusion_matrix(clf, X_test, y_test)  \n",
    "plt.show()"
   ]
  },
  {
   "cell_type": "markdown",
   "metadata": {
    "id": "VKhWkfeoiUkY"
   },
   "source": [
    "COMPLETE CODE"
   ]
  },
  {
   "cell_type": "code",
   "execution_count": null,
   "metadata": {
    "id": "dWyJ-0nMiUM4"
   },
   "outputs": [],
   "source": [
    "import matplotlib.pyplot as plt\n",
    "from skimage import io\n",
    "from skimage import filters\n",
    "import csv\n",
    "from skimage.color import rgb2gray\n",
    "from skimage.util import img_as_ubyte\n",
    "import cv2\n",
    "from google.colab.patches import cv2_imshow\n",
    "from google.colab import files\n",
    "import os\n",
    "import pandas as pd\n",
    "from sklearn.neighbors import KNeighborsClassifier\n",
    "from sklearn.metrics import accuracy_score\n",
    "from sklearn.model_selection import train_test_split\n",
    "from sklearn.ensemble import RandomForestClassifier\n",
    "from sklearn.tree import DecisionTreeClassifier\n",
    "\n",
    "path_infected=r'/content/drive/MyDrive/Colab Notebooks/cell-images-for-detecting-malaria/cell_images/Parasitized'\n",
    "path_uninfected=r'/content/drive/MyDrive/Colab Notebooks/cell-images-for-detecting-malaria/cell_images/Uninfected'\n",
    "directory=[path_infected,path_uninfected]\n",
    "rows=[]\n",
    "for path in directory:\n",
    "  count=0\n",
    "  for image in os.scandir(path):\n",
    "    count=count+1\n",
    "    if count>1000:\n",
    "      break\n",
    "    if (image.path.endswith(\".png\")):\n",
    "      im = io.imread(image.path)\n",
    "      im = filters.gaussian(im,sigma=0.9,multichannel=\"False\")\n",
    "      im_gray = rgb2gray(im)\n",
    "      im_gray=img_as_ubyte(im_gray)\n",
    "\n",
    "      ret,thresh = cv2.threshold(im_gray,127,255,0)\n",
    "      contours,_ = cv2.findContours(thresh,1,2)\n",
    "      cv2.drawContours(im,contours, -1, (0, 255, 0), 3)\n",
    "      data=[]\n",
    "      \n",
    "      for i in range (5):\n",
    "        if i<len(contours):\n",
    "          data.append(str(cv2.contourArea(contours[i])))\n",
    "        else:\n",
    "          data.append(\"0\")\n",
    "      if path==path_infected:\n",
    "        data.append(\"infected\")\n",
    "      else:\n",
    "        data.append(\"uninfected\")\n",
    "      rows.append(data)\n",
    "\n",
    "fields = ['Area-1', 'Area-2', 'Area-3','Area-4','Area-5',\"Status\"] \n",
    "with open('dataset-tp.csv', 'w') as csvfile: \n",
    "    csvwriter = csv.writer(csvfile) \n",
    "    csvwriter.writerow(fields)\n",
    "    csvwriter.writerows(rows)\n",
    "\n",
    "ret,thresh = cv2.threshold(im_gray,127,255,0)\n",
    "contours,_ = cv2.findContours(thresh,1,2)\n",
    "cv2.drawContours(im,contours, -1, (0, 255, 0), 3)\n",
    "data = []\n",
    "for i in range (5):\n",
    "  if i<len(contours):\n",
    "    data.append(str(cv2.contourArea(contours[i])))\n",
    "  else:\n",
    "    data.append(\"0\")\n",
    "rows.append(data)\n",
    "\n",
    "dataset = pd.read_csv('dataset-1000.csv')\n",
    "\n",
    "X = dataset.iloc[:, :-1]\n",
    "y = dataset.iloc[:, -1]\n",
    "train_X, test_X, train_y, test_y = train_test_split(X, y, test_size = 0.3, random_state = 42)\n",
    "model = [KNeighborsClassifier(5), DecisionTreeClassifier(max_depth=5), RandomForestClassifier(max_depth=5, n_estimators=10, max_features=1)]\n",
    "model_names= [\"KNeighborsClassifier\", \"DecisionTreeClassifier\", \"RandomForestClassifier\"]\n",
    "\n",
    "accuracy_test = []\n",
    "for i in range(len(model)):  \n",
    "  model[i].fit(train_X,train_y)\n",
    "  predict_test = model[i].predict(test_X)\n",
    "  accuracy_test.append(accuracy_score(test_y,predict_test))\n",
    "\n",
    "uploaded = files.upload()\n",
    "filename = list(uploaded.keys())\n",
    "print(\"\\n\")\n",
    "if filename[0].endswith(\".png\"):\n",
    "  im = io.imread(filename[0])\n",
    "  im = filters.gaussian(im,sigma=0.8,multichannel=False)\n",
    "  im_gray = rgb2gray(im)\n",
    "  im_gray=img_as_ubyte(im_gray)\n",
    "\n",
    "  ret,thresh = cv2.threshold(im_gray,127,255,0)\n",
    "  contours,_ = cv2.findContours(thresh,1,2)\n",
    "  cv2.drawContours(im,contours, -1, (0, 255, 0), 3)\n",
    "  data = []\n",
    "  for i in range (5):\n",
    "    if i<len(contours):\n",
    "      data.append(float(cv2.contourArea(contours[i])))\n",
    "    else:\n",
    "      data.append(0.0)\n",
    "  sample_test = [data]\n",
    "\n",
    "  for i in range(len(model)):\n",
    "    predict_sample = model[i].predict(sample_test)\n",
    "    print(\"Result: \", predict_sample[0], \"\\nAccuracy of Model: (\", model_names[i], \"): \", round(accuracy_test[i],3), \"\\n\")\n",
    "else:\n",
    "  print(\"Upload .PNG image file!\")"
   ]
  },
  {
   "cell_type": "code",
   "execution_count": null,
   "metadata": {
    "id": "OKSswixpy7Mz"
   },
   "outputs": [],
   "source": [
    "from telegram.ext import Updater, CommandHandler, MessageHandler, Filters\n",
    "\n",
    "# Define a few command handlers. These usually take the two arguments update and\n",
    "# context. Error handlers also receive the raised TelegramError object in error.\n",
    "def start(update, context):\n",
    "    update.message.reply_text('Hey! This is a bot to tell if your cell sample is detected with malaria or not. Upload an image of a Cell to Check!')\n",
    "\n",
    "def check(update, context):\n",
    "    update.message.reply_text('Bot is Working Fine! Tell this to Naman \\U0001F923')\n",
    "\n",
    "def malariapred(update, context):\n",
    "  # try:\n",
    "  obj=context.bot.getFile(file_id=update.message.document.file_id)\n",
    "  print(obj)\n",
    "  print(update)\n",
    "  print(context)\n",
    "  img=obj.download()\n",
    "  print(str(img))\n",
    "  im = io.imread(str(img))\n",
    "  io.imshow(im)\n",
    "  update.message.reply_text(\"File has been downloaded.\")\n",
    "  im = io.imread(str(img))\n",
    "  io.imshow(im)\n",
    "  im = filters.gaussian(im,sigma=0.8,multichannel=False)\n",
    "  im_gray = rgb2gray(im)\n",
    "  im_gray=img_as_ubyte(im_gray)\n",
    "\n",
    "  ret,thresh = cv2.threshold(im_gray,127,255,0)\n",
    "  contours,_ = cv2.findContours(thresh,1,2)\n",
    "  cv2.drawContours(im,contours, -1, (0, 255, 0), 3)\n",
    "  data = []\n",
    "  for i in range (5):\n",
    "    if i<len(contours):\n",
    "      data.append(float(cv2.contourArea(contours[i])))\n",
    "    else:\n",
    "      data.append(0.0)\n",
    "  sample_test = [data]\n",
    "\n",
    "  for i in range(len(model)):\n",
    "    predict_sample = model[i].predict(sample_test)\n",
    "    update.message.reply_text(\"Result: \" + str(predict_sample[0]) +\"\\nAccuracy of Model: (\"+ model_names[i] + \"): \" + str(round(accuracy_test[i],3)) + \"\\n\")\n",
    "  # except Exception as e:\n",
    "  #   print(str(e))\n",
    "\n",
    "\n",
    "\n",
    "def main():\n",
    "    \"\"\"Start the bot.\"\"\"\n",
    "    # Create the Updater and pass it your bot's token.\n",
    "    # Make sure to set use_context=True to use the new context based callbacks\n",
    "    # Post version 12 this will no longer be necessary\n",
    "    TOKEN=\"1727119674:AAEEMbRziRyZc3e2RSC4YG5B7LZ0m8bL1hw\"\n",
    "    updater = Updater(TOKEN, use_context=True)\n",
    "\n",
    "    # Get the dispatcher to register handlers\n",
    "    dp = updater.dispatcher\n",
    "\n",
    "    # on different commands - answer in Telegram\n",
    "    dp.add_handler(CommandHandler(\"start\", start))\n",
    "    dp.add_handler(CommandHandler(\"check\", check))\n",
    "    dp.add_handler(MessageHandler(Filters.document.image, malariapred))\n",
    "\n",
    "    # on noncommand i.e message - echo the message on Telegram\n",
    "    dp.add_handler(MessageHandler(Filters.text, start))\n",
    "\n",
    "    # log all errors\n",
    "\n",
    "    # Start the Bot\n",
    "    updater.start_polling()\n",
    "    updater.idle()\n",
    "\n",
    "\n",
    "if __name__ == '__main__':\n",
    "    main()"
   ]
  }
 ],
 "metadata": {
  "colab": {
   "authorship_tag": "ABX9TyOJdvakr85bpmFHmAFl6joN",
   "mount_file_id": "1aNq9DlhJcesE-K4DXzbSU2bhEIKFOOo6",
   "provenance": [
    {
     "file_id": "1aNq9DlhJcesE-K4DXzbSU2bhEIKFOOo6",
     "timestamp": 1663393217530
    }
   ]
  },
  "kernelspec": {
   "display_name": "Python 3",
   "name": "python3"
  },
  "language_info": {
   "name": "python"
  }
 },
 "nbformat": 4,
 "nbformat_minor": 0
}
